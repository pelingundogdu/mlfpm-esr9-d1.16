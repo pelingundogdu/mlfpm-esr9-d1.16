{
 "cells": [
  {
   "cell_type": "code",
   "execution_count": 1,
   "metadata": {},
   "outputs": [
    {
     "name": "stdout",
     "output_type": "stream",
     "text": [
      "**** scripts/config.py IMPORTED!!!\n",
      "**** PROJECT FOLDER ,  /home/pgundogdu/projects/signalization_prior_knowledge_based_nn\n"
     ]
    }
   ],
   "source": [
    "#!/usr/bin/env python\n",
    "\n",
    "'''\n",
    "DESCRIPTION\n",
    "-----------\n",
    "    Overview datasets\n",
    "'''\n",
    "\n",
    "# importing default libraries\n",
    "# import os, argparse, sys\n",
    "# sys.path.append('./')\n",
    "import os, sys\n",
    "ROOT_DIR = os.path.dirname(os.path.dirname(os.path.abspath('__file__')))\n",
    "os.chdir(ROOT_DIR)\n",
    "sys.path.append(ROOT_DIR)\n",
    "# importing scripts in scripts folder\n",
    "from scripts import config as scr\n",
    "# importing default libraries\n",
    "import pandas as pd\n",
    "import numpy as np\n",
    "import warnings\n",
    "warnings.filterwarnings('ignore')\n"
   ]
  },
  {
   "cell_type": "markdown",
   "metadata": {},
   "source": [
    "## MELANOMA"
   ]
  },
  {
   "cell_type": "code",
   "execution_count": 2,
   "metadata": {},
   "outputs": [
    {
     "name": "stdout",
     "output_type": "stream",
     "text": [
      "(3412, 17995)\n"
     ]
    },
    {
     "data": {
      "text/plain": [
       "cell_type\n",
       "B.cell         245\n",
       "Macrophage     126\n",
       "NK              28\n",
       "Neg.cell      2228\n",
       "T.CD4          257\n",
       "T.CD8          528\n",
       "dtype: int64"
      ]
     },
     "execution_count": 2,
     "metadata": {},
     "output_type": "execute_result"
    }
   ],
   "source": [
    "df_query = pd.read_pickle('./data/processed/exper_melanoma/query_log1p.pck')\n",
    "print(df_query.shape)\n",
    "df_query.groupby('cell_type').size()"
   ]
  },
  {
   "cell_type": "code",
   "execution_count": 3,
   "metadata": {},
   "outputs": [
    {
     "name": "stdout",
     "output_type": "stream",
     "text": [
      "(2761, 17995)\n"
     ]
    },
    {
     "data": {
      "text/plain": [
       "cell_type\n",
       "B.cell         573\n",
       "Macrophage     294\n",
       "NK              64\n",
       "T.CD4          599\n",
       "T.CD8         1231\n",
       "dtype: int64"
      ]
     },
     "execution_count": 3,
     "metadata": {},
     "output_type": "execute_result"
    }
   ],
   "source": [
    "df_reference = pd.read_pickle('./data/processed/exper_melanoma/reference_log1p.pck')\n",
    "print(df_reference.shape)\n",
    "df_reference.groupby('cell_type').size()"
   ]
  },
  {
   "cell_type": "markdown",
   "metadata": {},
   "source": [
    "## MOUSE"
   ]
  },
  {
   "cell_type": "code",
   "execution_count": 4,
   "metadata": {},
   "outputs": [
    {
     "name": "stdout",
     "output_type": "stream",
     "text": [
      "(402, 9438)\n"
     ]
    },
    {
     "data": {
      "text/plain": [
       "cell_type\n",
       "16cell        54\n",
       "4cell         14\n",
       "8cell         47\n",
       "BMDC          18\n",
       "BXC           13\n",
       "C57twocell     8\n",
       "ES            49\n",
       "PrE           22\n",
       "early2cell     8\n",
       "earlyblast    43\n",
       "fibroblast    10\n",
       "late2cell     10\n",
       "lateblast     30\n",
       "mid2cell      12\n",
       "midblast      60\n",
       "zy             4\n",
       "dtype: int64"
      ]
     },
     "execution_count": 4,
     "metadata": {},
     "output_type": "execute_result"
    }
   ],
   "source": [
    "df_training = pd.read_pickle('./data/processed/exper_mouse/mouse_learning_sw_gw.pck')\n",
    "print(df_training.shape)\n",
    "df_training.groupby('cell_type').size()"
   ]
  },
  {
   "cell_type": "code",
   "execution_count": 5,
   "metadata": {},
   "outputs": [
    {
     "name": "stdout",
     "output_type": "stream",
     "text": [
      "(17293, 9438)\n"
     ]
    },
    {
     "data": {
      "text/plain": [
       "cell_type\n",
       "16cell_              58\n",
       "2cell_               58\n",
       "2cell_NT_            22\n",
       "2cell_wildtype_       5\n",
       "4cell_               34\n",
       "                   ... \n",
       "thymus_NKT2          68\n",
       "thymus_mTEC         174\n",
       "transitional_        15\n",
       "zygote_              13\n",
       "zygote_wildtype_      5\n",
       "Length: 74, dtype: int64"
      ]
     },
     "execution_count": 5,
     "metadata": {},
     "output_type": "execute_result"
    }
   ],
   "source": [
    "df_retrieval = pd.read_pickle('./data/processed/exper_mouse/mouse_retrieval_sw_gw.pck')\n",
    "print(df_retrieval.shape)\n",
    "df_retrieval.groupby('cell_type').size()"
   ]
  },
  {
   "cell_type": "code",
   "execution_count": 6,
   "metadata": {},
   "outputs": [
    {
     "name": "stdout",
     "output_type": "stream",
     "text": [
      "(13645, 9438)\n"
     ]
    },
    {
     "data": {
      "text/plain": [
       "cell_type\n",
       "2cell       85\n",
       "4cell       55\n",
       "8cell       53\n",
       "ESC       9123\n",
       "HSC        202\n",
       "ICM         22\n",
       "neuron    3667\n",
       "spleen     420\n",
       "zygote      18\n",
       "dtype: int64"
      ]
     },
     "execution_count": 6,
     "metadata": {},
     "output_type": "execute_result"
    }
   ],
   "source": [
    "df_retrieval_cv = pd.read_pickle('./data/processed/exper_mouse/mouse_retrieval_sw_gw_cv.pck')\n",
    "print(df_retrieval_cv.shape)\n",
    "df_retrieval_cv.groupby('cell_type').size()"
   ]
  },
  {
   "cell_type": "markdown",
   "metadata": {},
   "source": [
    "## PBMC"
   ]
  },
  {
   "cell_type": "code",
   "execution_count": 7,
   "metadata": {},
   "outputs": [
    {
     "name": "stdout",
     "output_type": "stream",
     "text": [
      "(17500, 15701)\n"
     ]
    },
    {
     "data": {
      "text/plain": [
       "cell_type\n",
       "CD14      2500\n",
       "CD19      2500\n",
       "CD34      2500\n",
       "CD56      2500\n",
       "Cyt       2500\n",
       "Memory    2500\n",
       "Treg      2500\n",
       "dtype: int64"
      ]
     },
     "execution_count": 7,
     "metadata": {},
     "output_type": "execute_result"
    }
   ],
   "source": [
    "df_pbmc = pd.read_pickle('./data/processed/exper_pbmc/pbmc_sw_log1p.pck')\n",
    "print(df_pbmc.shape)\n",
    "df_pbmc.groupby('cell_type').size()"
   ]
  },
  {
   "cell_type": "markdown",
   "metadata": {},
   "source": [
    "## Immune"
   ]
  },
  {
   "cell_type": "code",
   "execution_count": 8,
   "metadata": {},
   "outputs": [
    {
     "name": "stdout",
     "output_type": "stream",
     "text": [
      "(9703, 16901)\n"
     ]
    },
    {
     "data": {
      "text/plain": [
       "cell_type\n",
       "B cell        1259\n",
       "DC            1255\n",
       "ILC            127\n",
       "Macrophage    1197\n",
       "Mast           130\n",
       "Monocyte       865\n",
       "NK            1204\n",
       "Plasma B       318\n",
       "T cell        3348\n",
       "dtype: int64"
      ]
     },
     "execution_count": 8,
     "metadata": {},
     "output_type": "execute_result"
    }
   ],
   "source": [
    "df_immune = pd.read_pickle('./data/processed/exper_immune/fig3.pck')\n",
    "print(df_immune.shape)\n",
    "df_immune.groupby('cell_type').size()"
   ]
  },
  {
   "cell_type": "code",
   "execution_count": null,
   "metadata": {},
   "outputs": [],
   "source": []
  }
 ],
 "metadata": {
  "kernelspec": {
   "display_name": "Python 3",
   "language": "python",
   "name": "python3"
  },
  "language_info": {
   "codemirror_mode": {
    "name": "ipython",
    "version": 3
   },
   "file_extension": ".py",
   "mimetype": "text/x-python",
   "name": "python",
   "nbconvert_exporter": "python",
   "pygments_lexer": "ipython3",
   "version": "3.7.9"
  }
 },
 "nbformat": 4,
 "nbformat_minor": 4
}
